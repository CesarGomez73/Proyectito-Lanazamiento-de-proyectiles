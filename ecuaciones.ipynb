{
 "cells": [
  {
   "cell_type": "code",
   "execution_count": 3,
   "metadata": {},
   "outputs": [
    {
     "name": "stdout",
     "output_type": "stream",
     "text": [
      "Ingrese la posición inicial horizontal(m)= 0\n",
      "Ingrese la posición inicial vertical(m)= 0\n",
      "Ingrese la velocidad inicial horizontal(m)= 5\n",
      "Ingrese la velocidad inicial vertical(m)= 5\n",
      "Ingrese la aceleración vertical (m)= -9.8\n",
      "Ingrese el tiempo (s) en que desea obtener la posición de la partícula en movimiento= 4.3\n",
      "El estado inicial del movimiento es ((xo,yo),(vxo,vyo)): [[0.0, 0.0], [5.0, 5.0]]\n",
      "La posición de la partícula a 4.3 s  es: [21.5, -69.101]\n"
     ]
    }
   ],
   "source": [
    "# Primer inciso: Creación de las funciones x(t), y(t) y r(t):\n",
    "\n",
    "xo = float(input(\"Ingrese la posición inicial horizontal(m)= \"))\n",
    "yo = float(input(\"Ingrese la posición inicial vertical(m)= \"))\n",
    "vxo = float(input(\"Ingrese la velocidad inicial horizontal(m)= \"))\n",
    "vyo = float(input(\"Ingrese la velocidad inicial vertical(m)= \"))\n",
    "a = float(input(\"Ingrese la aceleración vertical (m)= \"))\n",
    "x = lambda t:  xo+vxo*t\n",
    "y = lambda t: yo+vyo*t+a*0.5*t**2\n",
    "ro = [xo,yo]\n",
    "vo = [vxo,vyo]\n",
    "estado_inicial = [ro, vo]\n",
    "r = lambda t: [x(t),y(t)]\n",
    "tiempo = float(input(\"Ingrese el tiempo (s) en que desea obtener la posición de la partícula en movimiento= \"))\n",
    "print(f\"El estado inicial del movimiento es ((xo,yo),(vxo,vyo)): {estado_inicial}\")\n",
    "print(f\"La posición de la partícula a {tiempo} s  es: {r(tiempo)}\")\n"
   ]
  },
  {
   "cell_type": "code",
   "execution_count": 4,
   "metadata": {},
   "outputs": [
    {
     "data": {
      "text/plain": [
       "2"
      ]
     },
     "execution_count": 4,
     "metadata": {},
     "output_type": "execute_result"
    }
   ],
   "source": [
    "1+1\n"
   ]
  },
  {
   "cell_type": "code",
   "execution_count": null,
   "metadata": {},
   "outputs": [],
   "source": []
  }
 ],
 "metadata": {
  "kernelspec": {
   "display_name": "Python 3",
   "language": "python",
   "name": "python3"
  },
  "language_info": {
   "codemirror_mode": {
    "name": "ipython",
    "version": 3
   },
   "file_extension": ".py",
   "mimetype": "text/x-python",
   "name": "python",
   "nbconvert_exporter": "python",
   "pygments_lexer": "ipython3",
   "version": "3.8.3"
  }
 },
 "nbformat": 4,
 "nbformat_minor": 4
}
