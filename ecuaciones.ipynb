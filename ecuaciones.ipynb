{
 "cells": [
  {
   "cell_type": "code",
   "execution_count": 17,
   "metadata": {},
   "outputs": [
    {
     "name": "stdout",
     "output_type": "stream",
     "text": [
      "Ingrese la posición inicial horizontal(m)= 0\n",
      "Ingrese la posición inicial vertical(m)= 0\n",
      "Ingrese la velocidad inicial horizontal(m)= 3\n",
      "Ingrese la velocidad inicial vertical(m)= 4\n"
     ]
    },
    {
     "data": {
      "text/plain": [
       "[3.0, -0.9000000000000004]"
      ]
     },
     "execution_count": 17,
     "metadata": {},
     "output_type": "execute_result"
    }
   ],
   "source": [
    "xo = float(input(\"Ingrese la posición inicial horizontal(m)= \"))\n",
    "yo = float(input(\"Ingrese la posición inicial vertical(m)= \"))\n",
    "vxo = float(input(\"Ingrese la velocidad inicial horizontal(m)= \"))\n",
    "vyo = float(input(\"Ingrese la velocidad inicial vertical(m)= \"))\n",
    "x = lambda t:  xo+vxo*t\n",
    "y = lambda t: yo+vyo*t-9.8*0.5*t**2\n",
    "r = lambda t: [x(t),y(t)]\n",
    "r(1)"
   ]
  },
  {
   "cell_type": "code",
   "execution_count": 5,
   "metadata": {},
   "outputs": [
    {
     "data": {
      "text/plain": [
       "'155'"
      ]
     },
     "execution_count": 5,
     "metadata": {},
     "output_type": "execute_result"
    }
   ],
   "source": [
    "x(2)"
   ]
  },
  {
   "cell_type": "code",
   "execution_count": null,
   "metadata": {},
   "outputs": [],
   "source": []
  }
 ],
 "metadata": {
  "kernelspec": {
   "display_name": "Python 3",
   "language": "python",
   "name": "python3"
  },
  "language_info": {
   "codemirror_mode": {
    "name": "ipython",
    "version": 3
   },
   "file_extension": ".py",
   "mimetype": "text/x-python",
   "name": "python",
   "nbconvert_exporter": "python",
   "pygments_lexer": "ipython3",
   "version": "3.8.3"
  }
 },
 "nbformat": 4,
 "nbformat_minor": 4
}
