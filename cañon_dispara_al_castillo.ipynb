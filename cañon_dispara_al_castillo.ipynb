{
 "cells": [
  {
   "cell_type": "code",
   "execution_count": 1,
   "metadata": {},
   "outputs": [
    {
     "name": "stderr",
     "output_type": "stream",
     "text": [
      "Matplotlib is building the font cache; this may take a moment.\n"
     ]
    }
   ],
   "source": [
    "import math\n",
    "import matplotlib.pyplot as plt\n",
    "import numpy as np"
   ]
  },
  {
   "cell_type": "code",
   "execution_count": 43,
   "metadata": {},
   "outputs": [],
   "source": [
    "def cañon_acierta_castillo():\n",
    "   \n",
    "    xo = 0\n",
    "    yo = 0\n",
    "    a=-9.8\n",
    "    ro=[xo,yo]\n",
    "    try:\n",
    "        vo = float(input(\"Ingrese la magnitud de velocidad inicial del lanzamiento= \"))\n",
    "        angulo_elevacion = float(input (\"Ingrese el ángulo de elevación del cañon= \"))\n",
    "        h = float(input(\"Ingrese altura del castillo= \"))\n",
    "        w = float(input(\"Ingrese anchura del castillo= \"))\n",
    "        assert(vo >= 0 and angulo_elevacion>=0 and h>=0 and w>=0)\n",
    "    \n",
    "    except AssertionError:\n",
    "        print(\"Ha ingresado alguna magnitud negativa\")\n",
    "        print(\"Intentelo de nuevo ingresando valores correctamente\")\n",
    "        return(None)\n",
    "    \n",
    "    px = float(input(\"Ingrese la posición horizontal del centro de la base del Castillo= \"))\n",
    "    py = float(input (\"Ingrese la posición vertical del centro de la base del Castillo= \"))\n",
    "    \n",
    "    vxo = vo*math.cos(math.radians(angulo_elevacion))\n",
    "    vyo = vo*math.sin(math.radians(angulo_elevacion))\n",
    "    vector_vo = [vxo, vyo]\n",
    "    \n",
    "    x = lambda t:  xo+vxo*t\n",
    "    y = lambda t: yo+vyo*t+a*0.5*t**2\n",
    "    r = lambda t: [x(t),y(t)]\n",
    "    \n",
    "    duracion_lanzamiento=-2*vyo/a\n",
    "    \n",
    "    tiempo=0\n",
    "    \n",
    "    while (tiempo <= duracion_lanzamiento):\n",
    "        if(px-w/2<=x(tiempo)<=px+w/2 and y(tiempo)<=py+h):\n",
    "            print(\"El proyectil impacta en el Castillo\")\n",
    "            break\n",
    "        else:\n",
    "            tiempo=tiempo+1/16\n",
    "    if tiempo >= duracion_lanzamiento:\n",
    "        print(\"Proyectil no impacta en el Castillo\")\n",
    "    else:\n",
    "        print(\"Los datos del lanzamiento son:\")       \n",
    "        print(f\"La posición incial del cañon es= {ro} m\")\n",
    "        print(f\"Las componentes de velocidad inicial del proyectil= {vector_vo} m/s\")\n",
    "        print(f\"El ángulo de elevación del cañon es {angulo_elevacion} grados\")\n",
    "        print(f\"El tiempo que tarda en impactar es= {tiempo} con un tiempo de duración del lanzamiento de {duracion_lanzamiento}\")\n",
    "        \n",
    "    t=np.arange(0,tiempo,1/16)\n",
    "    rx=list(x(t))\n",
    "    ry=list(y(t))\n",
    "    \n",
    "    ancho_del_castillo = [px-w/2,px+w/2]\n",
    "    sup_castillo = [h+py for l in [px-w/2,px+w/2]]\n",
    "    base_castillo = [py for l in [px-w/2,px+w/2]]\n",
    "    \n",
    "    dominio=[0]\n",
    "    dominio.extend(ancho_del_castillo)\n",
    "    if x(duracion_lanzamiento)>=px+w/2:\n",
    "        dominio.append(x(duracion_lanzamiento))\n",
    "    else:\n",
    "        dominio.append(px+w)\n",
    "    \n",
    "    terreno=[0]\n",
    "    terreno.extend(base_castillo)\n",
    "    terreno.append(0)\n",
    "    \n",
    "    rango_altura = [py,h+py]\n",
    "    pared_izquierda = [(px-w/2) for l in [py,h+py]]\n",
    "    pared_derecha = [(px+w/2) for l in [py,h+py]]\n",
    "\n",
    "    plt.plot(rx, ry,color='r')\n",
    "    plt.title(\"Trayectoria del proyectil\")\n",
    "    plt.xlabel(\"Recorrido horizontal (m)\")\n",
    "    plt.ylabel(\"Altura (m)\")\n",
    "    plt.plot(ancho_del_castillo, sup_castillo, color='b')\n",
    "    plt.plot(dominio, terreno, color='g')\n",
    "    plt.plot(pared_izquierda, rango_altura,color='b')\n",
    "    plt.plot(pared_derecha, rango_altura,color='b')\n",
    "    plt.show()\n"
   ]
  },
  {
   "cell_type": "code",
   "execution_count": 37,
   "metadata": {},
   "outputs": [
    {
     "data": {
      "image/png": "[encoded data removed]",
      "text/plain": [
       "<Figure size 432x288 with 1 Axes>"
      ]
     },
     "metadata": {
      "needs_background": "light"
     },
     "output_type": "display_data"
    },
    {
     "data": {
      "text/plain": [
       "[0, 4.5, 7.5, 0]"
      ]
     },
     "execution_count": 37,
     "metadata": {},
     "output_type": "execute_result"
    }
   ],
   "source": [
    "j=np.arange(0,4,1/16)\n",
    "u = lambda p: 1+2*p\n",
    "ru=list(u(j))\n",
    "plt.plot(j, ru)\n",
    "plt.show()\n",
    "bases = [6.5-4/2,6.5+2/2]\n",
    "castillo=[1*base/base for base in [6.5-4/2,6.5+2/2]]\n",
    "terreno=[0]\n",
    "terreno.extend(bases)\n",
    "terreno.append(0)\n",
    "terreno\n"
   ]
  },
  {
   "cell_type": "code",
   "execution_count": 49,
   "metadata": {},
   "outputs": [
    {
     "name": "stdout",
     "output_type": "stream",
     "text": [
      "Ingrese la magnitud de velocidad inicial del lanzamiento= 15\n",
      "Ingrese el ángulo de elevación del cañon= 150\n",
      "Ingrese altura del castillo= 3\n",
      "Ingrese anchura del castillo= 7\n",
      "Ingrese la posición horizontal del centro de la base del Castillo= -10\n",
      "Ingrese la posición vertical del centro de la base del Castillo= 1\n",
      "El proyectil impacta en el Castillo\n",
      "Los datos del lanzamiento son:\n",
      "La posición incial del cañon es= [0, 0] m\n",
      "Las componentes de velocidad inicial del proyectil= [-12.99038105676658, 7.499999999999999] m/s\n",
      "El ángulo de elevación del cañon es 150.0 grados\n",
      "El tiempo que tarda en impactar es= 0.5625 con un tiempo de duración del lanzamiento de 1.5306122448979589\n"
     ]
    },
    {
     "data": {
      "image/png": "[encoded data removed]",
      "text/plain": [
       "<Figure size 432x288 with 1 Axes>"
      ]
     },
     "metadata": {
      "needs_background": "light"
     },
     "output_type": "display_data"
    }
   ],
   "source": [
    "cañon_acierta_castillo()"
   ]
  },
  {
   "cell_type": "code",
   "execution_count": null,
   "metadata": {},
   "outputs": [],
   "source": []
  }
 ],
 "metadata": {
  "kernelspec": {
   "display_name": "Python 3",
   "language": "python",
   "name": "python3"
  },
  "language_info": {
   "codemirror_mode": {
    "name": "ipython",
    "version": 3
   },
   "file_extension": ".py",
   "mimetype": "text/x-python",
   "name": "python",
   "nbconvert_exporter": "python",
   "pygments_lexer": "ipython3",
   "version": "3.8.3"
  }
 },
 "nbformat": 4,
 "nbformat_minor": 4
}
