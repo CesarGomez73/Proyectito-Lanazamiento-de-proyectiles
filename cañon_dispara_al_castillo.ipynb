{
 "cells": [
  {
   "cell_type": "code",
   "execution_count": 1,
   "metadata": {},
   "outputs": [],
   "source": [
    "# Segundo inciso. Problema del cañón que dispara a un castillo de dimensiones hxw que se encuentra\n",
    "# en una posición (px, py)\n",
    "import math\n",
    "import matplotlib.pyplot as plt\n",
    "import numpy as np"
   ]
  },
  {
   "cell_type": "code",
   "execution_count": 2,
   "metadata": {},
   "outputs": [],
   "source": [
    "def cañon_acierta_castillo():\n",
    "    \"\"\"\"\n",
    "    Área de comentarios\n",
    "\n",
    "    -----------------------------------------------------------------------------------------------------------\n",
    "    La función ha de llamarse sin entradas.\n",
    "    Pedirá al usuario que ingrese la magnitud de la velocidad inicial con la que se dispara el proyectil,\n",
    "    el ángulo de inclinación del cañón, la altura y anchura del Castillo Objetivo y las coordenadas en las que se situa\n",
    "    la base de este. \n",
    "    \n",
    "    *Se  puede disparar a coordenadas negativas de x\n",
    "    \n",
    "    La función devuelve si el proyectil impacta o no en el castillo, si lo hace indica los parámetros del lanzamiento.\n",
    "    En cualquier caso se muestra un gráfico del lanzamiento.\n",
    "    \n",
    "    Se asume que siempre el cañón dispara desde la coordenada (0,0)\n",
    "    --------------------------------------------------------------------------------------------------------\n",
    "    \"\"\"\n",
    "   \n",
    "    xo = 0\n",
    "    yo = 0\n",
    "    a=-9.8\n",
    "    ro=[xo,yo]\n",
    "    \n",
    "    px = float(input(\"Ingrese la posición horizontal del centro de la base del Castillo (m)= \"))\n",
    "    py = float(input (\"Ingrese la posición vertical del centro de la base del Castillo (m)= \"))\n",
    "    \n",
    "    try:\n",
    "        h = float(input(\"Ingrese altura del castillo (m)= \"))\n",
    "        w = float(input(\"Ingrese anchura del castillo (m)= \"))\n",
    "        vo = float(input(\"Ingrese la magnitud de velocidad inicial del lanzamiento en (m/s)= \"))\n",
    "        angulo_elevacion = float(input (\"Ingrese el ángulo de elevación del cañon en grados= \"))\n",
    "        assert(vo >= 0 and 180>=angulo_elevacion>=0 and h>=0 and w>=0)\n",
    "    \n",
    "    except AssertionError:\n",
    "        print(\"Ha ingresado alguna magnitud negativa o un ángulo fuera del rango de 0 a 180 grados\")\n",
    "        print(\"Intentelo de nuevo ingresando valores correctamente\")\n",
    "        return(None)\n",
    "    \n",
    "    vxo = vo*math.cos(math.radians(angulo_elevacion))\n",
    "    vyo = vo*math.sin(math.radians(angulo_elevacion))\n",
    "    vector_vo = [vxo, vyo]\n",
    "    \n",
    "    x = lambda t:  xo+vxo*t\n",
    "    y = lambda t: yo+vyo*t+a*0.5*t**2\n",
    "    r = lambda t: [x(t),y(t)]\n",
    "    \n",
    "    duracion_lanzamiento=-2*vyo/a\n",
    "    \n",
    "    m=h/(2*w)\n",
    "    b1=h+py-m*px\n",
    "    b2=h+py+m*px\n",
    "    \n",
    "    tiempo=0\n",
    "    \n",
    "    while (tiempo <= duracion_lanzamiento):\n",
    "        if(px-w/2<=x(tiempo)<=px+w/2):\n",
    "            if (y(tiempo)<=py+3*h/4):\n",
    "                print(\"El proyectil impacta en el Castillo\")\n",
    "                break\n",
    "            else:\n",
    "                if(x(tiempo)<=px):\n",
    "                    if (y(tiempo)<=m*x(tiempo)+b1):\n",
    "                        print(\"El proyectil impacta en el Castillo\")\n",
    "                        break\n",
    "                else:\n",
    "                    if (y(tiempo)<=-m*x(tiempo)+b2):\n",
    "                        print(\"El proyectil impacta en el Castillo\")\n",
    "                        break\n",
    "        tiempo=tiempo+1/64\n",
    "        \n",
    "        \n",
    "    if tiempo >= duracion_lanzamiento:\n",
    "        print(\"Proyectil no impacta en el Castillo\")\n",
    "    else:\n",
    "        print(\"Los parámetros del lanzamiento son:\")       \n",
    "        print(f\"* La posición incial del cañon es= {ro} m\")\n",
    "        print(f\"* Las componentes de velocidad inicial del proyectil= {vector_vo} m/s\")\n",
    "        print(f\"* El ángulo de elevación del cañon es {angulo_elevacion} grados\")\n",
    "        print(f\"* El tiempo que tarda en impactar es= {tiempo} con un tiempo de duración del lanzamiento de {duracion_lanzamiento}\")\n",
    "        print(f\"* La coordenada del impacto es aproximadamente: {r(tiempo)} m\")\n",
    "        \n",
    "    t=np.arange(0,tiempo,1/64)\n",
    "    rx=list(x(t))\n",
    "    ry=list(y(t))\n",
    "    \n",
    "    ancho_del_castillo = [px-w/2,px+w/2]\n",
    "    base_castillo = [py,py]\n",
    "    \n",
    "    ubicacion_columnas = [px-w/2,px,px+w/2]\n",
    "    sup_castillo = [3*h/4+py,py+h,3*h/4+py]\n",
    "    \n",
    "    \n",
    "    dominio = [px-w/2-1/8]\n",
    "    dominio.extend(ancho_del_castillo)\n",
    "    dominio.append(px+w/2+1/8)\n",
    "    \n",
    "    terreno=[0]\n",
    "    terreno.extend(base_castillo)\n",
    "    terreno.append(0)\n",
    "    \n",
    "    rango_altura = [py,3*h/4+py]\n",
    "    pared_izquierda = [(px-w/2), (px-w/2)]\n",
    "    pared_derecha = [(px+w/2),(px+w/2)]\n",
    "\n",
    "    plt.plot(rx, ry,color='r',label=\"Trayectoria del proyectil\")\n",
    "    plt.title(\"Trayectoria del proyectil\")\n",
    "    plt.xlabel(\"Recorrido (m)\")\n",
    "    plt.ylabel(\"Altitud (m)\")\n",
    "    plt.plot(ubicacion_columnas, sup_castillo, color='b', label=\"Castillo\")\n",
    "    plt.plot(dominio, terreno, color='g', label=\"Terreno del Castillo\")\n",
    "    plt.plot(pared_izquierda, rango_altura,color='b')\n",
    "    plt.plot(pared_derecha, rango_altura,color='b')\n",
    "    plt.legend(loc='center left', bbox_to_anchor=(1, 0.5))\n",
    "    plt.show()\n"
   ]
  },
  {
   "cell_type": "code",
   "execution_count": null,
   "metadata": {},
   "outputs": [],
   "source": []
  },
  {
   "cell_type": "code",
   "execution_count": 4,
   "metadata": {},
   "outputs": [
    {
     "name": "stdout",
     "output_type": "stream",
     "text": [
      "Ingrese la posición horizontal del centro de la base del Castillo (m)= -143\n",
      "Ingrese la posición vertical del centro de la base del Castillo (m)= 20\n",
      "Ingrese altura del castillo (m)= 6\n",
      "Ingrese anchura del castillo (m)= 25\n",
      "Ingrese la magnitud de velocidad inicial del lanzamiento en (m/s)= 48\n",
      "Ingrese el ángulo de elevación del cañon en grados= 149\n",
      "El proyectil impacta en el Castillo\n",
      "Los parámetros del lanzamiento son:\n",
      "* La posición incial del cañon es= [0, 0] m\n",
      "* Las componentes de velocidad inicial del proyectil= [-41.14403043370139, 24.721827595682612] m/s\n",
      "* El ángulo de elevación del cañon es 149.0 grados\n",
      "* El tiempo que tarda en impactar es= 3.625 con un tiempo de duración del lanzamiento de 5.0452709378944105\n",
      "* La coordenada del impacto es aproximadamente: [-149.14711032216752, 25.22756253434946] m\n"
     ]
    },
    {
     "data": {
      "image/png": "[encoded data removed]",
      "text/plain": [
       "<Figure size 432x288 with 1 Axes>"
      ]
     },
     "metadata": {
      "needs_background": "light"
     },
     "output_type": "display_data"
    }
   ],
   "source": [
    "cañon_acierta_castillo()"
   ]
  },
  {
   "cell_type": "markdown",
   "metadata": {},
   "source": []
  }
 ],
 "metadata": {
  "kernelspec": {
   "display_name": "Python 3",
   "language": "python",
   "name": "python3"
  },
  "language_info": {
   "codemirror_mode": {
    "name": "ipython",
    "version": 3
   },
   "file_extension": ".py",
   "mimetype": "text/x-python",
   "name": "python",
   "nbconvert_exporter": "python",
   "pygments_lexer": "ipython3",
   "version": "3.8.3"
  }
 },
 "nbformat": 4,
 "nbformat_minor": 4
}
