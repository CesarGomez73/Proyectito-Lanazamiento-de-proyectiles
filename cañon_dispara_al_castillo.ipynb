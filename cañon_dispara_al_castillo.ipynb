{
 "cells": [
  {
   "cell_type": "code",
   "execution_count": 22,
   "metadata": {},
   "outputs": [],
   "source": [
    "def cañon_acierta_castillo():\n",
    "    import math\n",
    "    xo = 0\n",
    "    yo = 0\n",
    "    a=-9.8\n",
    "    ro=[xo,yo]\n",
    "    try:\n",
    "        vo = float(input(\"Ingrese la magnitud de velocidad inicial del lanzamiento= \"))\n",
    "        angulo_elevacion = float(input (\"Ingrese el ángulo de elevación del cañon= \"))\n",
    "        h = float(input(\"Ingrese altura del castillo= \"))\n",
    "        w = float(input(\"Ingrese anchura del castillo= \"))\n",
    "        assert(vo >= 0 and angulo_elevacion>=0 and h>=0 and w>=0)\n",
    "    \n",
    "    except AssertionError:\n",
    "        print(\"Ha ingresado alguna magnitud negativa\")\n",
    "        print(\"Intentelo de nuevo ingresando valores correctamente\")\n",
    "        return(None)\n",
    "    \n",
    "    px = float(input(\"Ingrese la posición horizontal del centro de la base del Castillo= \"))\n",
    "    py = float(input (\"Ingrese la posición vertical del centro de la base del Castillo= \"))\n",
    "    \n",
    "    vxo = vo*math.cos(math.radians(angulo_elevacion))\n",
    "    vyo = vo*math.sin(math.radians(angulo_elevacion))\n",
    "    vector_vo = [vxo, vyo]\n",
    "    \n",
    "    x = lambda t:  xo+vxo*t\n",
    "    y = lambda t: yo+vyo*t+a*0.5*t**2\n",
    "    r = lambda t: [x(t),y(t)]\n",
    "    \n",
    "    duracion_lanzamiento=-2*vyo/a\n",
    "    \n",
    "    tiempo=0\n",
    "    \n",
    "    while (tiempo <= duracion_lanzamiento):\n",
    "        if(px-w/2<=x(tiempo)<=px+w/2 and y(tiempo)<=py+h):\n",
    "            print(\"El proyectil impacta en el Castillo\")\n",
    "            break\n",
    "        else:\n",
    "            tiempo=tiempo+1/16\n",
    "    if tiempo >= duracion_lanzamiento:\n",
    "        print(\"Proyectil no impacta en el Castillo\")\n",
    "    else:\n",
    "        print(\"Los datos del lanzamiento son:\")       \n",
    "        print(f\"La posición incial del cañon es= {ro} m\")\n",
    "        print(f\"Las componentes de velocidad inicial del proyectil= {vector_vo} m/s\")\n",
    "        print(f\"El ángulo de elevación del cañon es {angulo_elevacion} grados\")\n",
    "        print(f\"El tiempo que tarda en impactar es= {tiempo} con un tiempo de duración del lanzamiento de {duracion_lanzamiento}\")\n",
    "        \n",
    "        "
   ]
  },
  {
   "cell_type": "code",
   "execution_count": 23,
   "metadata": {},
   "outputs": [
    {
     "name": "stdout",
     "output_type": "stream",
     "text": [
      "Ingrese la magnitud de velocidad inicial del lanzamiento= 10\n",
      "Ingrese el ángulo de elevación del cañon= 45\n",
      "Ingrese altura del castillo= 4\n",
      "Ingrese anchura del castillo= 5\n",
      "Ingrese la posición horizontal del centro de la base del Castillo= 6.5\n",
      "Ingrese la posición vertical del centro de la base del Castillo= 0\n",
      "El proyectil impacta en el Castillo\n",
      "Los datos del lanzamiento son:\n",
      "La posición incial del cañon es= [0, 0] m\n",
      "Las componentes de velocidad inicial del proyectil= [7.0710678118654755, 7.0710678118654755] m/s\n",
      "El ángulo de elevación del cañon es 45.0 grados\n",
      "El tiempo que tarda en impactar es= 0.625 con un tiempo de duración del lanzamiento de 1.4430750636460152\n"
     ]
    }
   ],
   "source": [
    "cañon_acierta_castillo()"
   ]
  },
  {
   "cell_type": "code",
   "execution_count": null,
   "metadata": {},
   "outputs": [],
   "source": []
  }
 ],
 "metadata": {
  "kernelspec": {
   "display_name": "Python 3",
   "language": "python",
   "name": "python3"
  },
  "language_info": {
   "codemirror_mode": {
    "name": "ipython",
    "version": 3
   },
   "file_extension": ".py",
   "mimetype": "text/x-python",
   "name": "python",
   "nbconvert_exporter": "python",
   "pygments_lexer": "ipython3",
   "version": "3.8.3"
  }
 },
 "nbformat": 4,
 "nbformat_minor": 4
}
